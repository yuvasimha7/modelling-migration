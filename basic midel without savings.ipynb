{
 "cells": [
  {
   "cell_type": "code",
   "execution_count": null,
   "metadata": {},
   "outputs": [],
   "source": [
    "import numpy as np\n",
    "import matplotlib.pyplot as plt\n",
    "%matplotlib inline\n",
    "from random import randrange\n",
    "from scipy.optimize import minimize_scalar, bisect\n",
    "from scipy.stats import pareto\n",
    "from scipy.stats import norm\n",
    "from numpy import random\n",
    "import random\n",
    "from random import uniform"
   ]
  },
  {
   "cell_type": "code",
   "execution_count": null,
   "metadata": {},
   "outputs": [],
   "source": [
    "p1,p2,p3 = random.randint(7,10),random.randint(7,10),random.randint(7,10)\n",
    "Z1,Z2,Z3= np.zeros(p1),np.zeros(p2),np.zeros(p3)\n",
    "C1,C2,C3 = np.zeros(p1),np.zeros(p2),np.zeros(p3)\n",
    "#θ1 = random.uniform(0,1) # θ 0 and 1 are equal and θ2 is larget than other 2 (with less variability)\n",
    "i=0\n",
    "while i < p1:\n",
    "    θ1 = norm.rvs(2,1)\n",
    "    k1 = random.uniform(1,2)\n",
    "    Z1[i] = 1-k1**(-θ1)\n",
    "    i+=1\n",
    "    \n",
    "i=0\n",
    "while i < p2:\n",
    "    θ2 = norm.rvs(2,1)\n",
    "    k2 = random.uniform(1,2)\n",
    "    Z2[i] = 1-k2**(-θ2)\n",
    "    i+=1\n",
    "\n",
    "i=0\n",
    "while i<p3:\n",
    "    θ3 = norm.rvs(2,1)\n",
    "    k3 = random.uniform(1,2)\n",
    "    Z3[i] = 1-k3**(-θ3)\n",
    "    i+=1\n",
    "\n",
    "Z1,Z2,Z3"
   ]
  },
  {
   "cell_type": "code",
   "execution_count": null,
   "metadata": {},
   "outputs": [],
   "source": [
    "W1,W2,W3 = np.zeros(p1),np.zeros(p2),np.zeros(p3)\n",
    "L,A = 1,.5\n",
    "\n",
    "W1,W2,W3 = A*Z1,A*Z2,A*Z3\n",
    "W1,W2,W3\n"
   ]
  },
  {
   "cell_type": "code",
   "execution_count": null,
   "metadata": {},
   "outputs": [],
   "source": [
    "γ= random.uniform(0,5)\n",
    "def u(C,γ):\n",
    "    if γ==1:\n",
    "        return np.log(C)\n",
    "    else:\n",
    "        return (C**(1-γ))/(1-γ)\n",
    "    \n",
    "def W(A,Z):\n",
    "    return A*Z\n",
    "\n",
    "def C(W,L):\n",
    "    return W*L\n",
    "\n",
    "def Y(A,Z,L):\n",
    "    return A*L*(sum(Z))\n",
    "\n",
    "Y(A,Z1,L)\n",
    "C1 = C(W1,L)\n",
    "C2 = C(W2,L)\n",
    "C3 = C(W3,L)\n",
    "C1,C2,C3"
   ]
  },
  {
   "cell_type": "code",
   "execution_count": null,
   "metadata": {},
   "outputs": [],
   "source": [
    "def obj1(C):\n",
    "    return u(C,γ)\n",
    "\n",
    "def constraint1(C):\n",
    "    return A*Z1-C\n",
    "\n",
    "\n",
    "u(C1,γ)"
   ]
  },
  {
   "cell_type": "code",
   "execution_count": null,
   "metadata": {},
   "outputs": [],
   "source": [
    "d= random.randrange(0,2)\n",
    "β= random.uniform(0,1)\n",
    "def m(d):\n",
    "    if d==0:\n",
    "        return 1\n",
    "    elif d==1:\n",
    "        return random.uniform(0,1)\n",
    "    else: \n",
    "        return random.uniform(0,1)"
   ]
  },
  {
   "cell_type": "code",
   "execution_count": null,
   "metadata": {},
   "outputs": [],
   "source": [
    "t=20\n",
    "g=0\n",
    "s=(t,p1)\n",
    "#C1_tot = 0\n",
    "C1_ = np.zeros(s)\n",
    "while g<t:\n",
    "    C1_[g] = C1\n",
    "    C1_tot = C1_tot +(β**(g))* u(C1_[g],γ)\n",
    "    g+=1\n",
    "C1_tot\n"
   ]
  },
  {
   "cell_type": "code",
   "execution_count": null,
   "metadata": {},
   "outputs": [],
   "source": [
    "j=0\n",
    "while j<3:\n",
    "    mean  = random.uniform(3,7)\n",
    "    sd = random.uniform(0,2)\n",
    "    k =random.uniform(0,1)\n",
    "    population = random.randint(7000,10000)\n",
    "    Z_j = np.random.normal(mean,sd,100000)\n",
    "    #Z_j = 1- k**θ_j\n",
    "    plt.hist(Z_j,1000)\n",
    "    print(population,mean,sd)\n",
    "    plt.show()\n",
    "    mean,sd\n",
    "    j+= 1\n",
    "    "
   ]
  },
  {
   "cell_type": "code",
   "execution_count": null,
   "metadata": {},
   "outputs": [],
   "source": []
  }
 ],
 "metadata": {
  "kernelspec": {
   "display_name": "Python 3",
   "language": "python",
   "name": "python3"
  },
  "language_info": {
   "codemirror_mode": {
    "name": "ipython",
    "version": 3
   },
   "file_extension": ".py",
   "mimetype": "text/x-python",
   "name": "python",
   "nbconvert_exporter": "python",
   "pygments_lexer": "ipython3",
   "version": "3.7.1"
  }
 },
 "nbformat": 4,
 "nbformat_minor": 2
}
