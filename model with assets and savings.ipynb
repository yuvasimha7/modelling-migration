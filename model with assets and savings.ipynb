{
 "cells": [
  {
   "cell_type": "code",
   "execution_count": null,
   "metadata": {},
   "outputs": [],
   "source": [
    "import scipy\n",
    "import numpy as np\n",
    "import matplotlib.pyplot as plt\n",
    "import scipy as sp\n",
    "import seaborn as sb\n",
    "from scipy.stats import pareto\n",
    "from scipy.stats import norm\n",
    "from random import uniform\n",
    "from sympy.abc import x\n",
    "from sympy import Poly\n",
    "from sympy.solvers.inequalities import solve_rational_inequalities\n",
    "import numpy as np\n",
    "import matplotlib.pyplot as plt\n",
    "from mpl_toolkits import mplot3d\n",
    "from matplotlib.collections import PolyCollection   # these are bunch of header files some aare needed some may be required for future use\n",
    "import random\n",
    "import pandas as pd\n",
    "\n",
    "np.random.seed(0)\n",
    "random.seed(0)\n",
    "\n",
    "%matplotlib inline"
   ]
  },
  {
   "cell_type": "code",
   "execution_count": null,
   "metadata": {},
   "outputs": [],
   "source": [
    "population_size = 100000\n",
    "thetas = (1.15, 1.15, 1.8)\n",
    "quantiles = np.linspace(0.00001,0.99999, population_size)\n",
    "\n",
    "Z0 = pareto.ppf(quantiles, thetas[0])\n",
    "Z1 = pareto.ppf(quantiles, thetas[1])\n",
    "Z2 = pareto.ppf(quantiles, thetas[2])\n",
    "\n",
    "\n",
    "fig, axs = plt.subplots(1,3, figsize = (25,5))\n",
    "\n",
    "pd.Series(Z0).plot.kde(ax = axs[0], xlim = (0,1000))\n",
    "pd.Series(Z1).plot.kde(ax = axs[1], xlim = (0,1000))\n",
    "pd.Series(Z2).plot.kde(ax = axs[2], xlim = (0,1000))\n",
    "\n",
    "axs[0].set_title('Distribution for Theta {}'.format(thetas[0]))\n",
    "axs[1].set_title('Distribution for Theta {}'.format(thetas[1]))\n",
    "axs[2].set_title('Distribution for Theta {}'.format(thetas[2]))"
   ]
  },
  {
   "cell_type": "code",
   "execution_count": null,
   "metadata": {},
   "outputs": [],
   "source": [
    "W0, W1, W2 = Z0, Z1, Z2*5\n",
    "\n",
    "A_high = 1\n",
    "A_low = 0.9\n",
    "\n",
    "\n",
    "Wage_high = A_high * W0\n",
    "Wage_low = A_low * W0\n",
    "\n",
    "\n",
    "discount_beta, return_R = 0.9, 1.05"
   ]
  },
  {
   "cell_type": "code",
   "execution_count": null,
   "metadata": {},
   "outputs": [],
   "source": [
    "# BASED ON EQUATION XXX of PAPER\n",
    "def calculate_savings(probability_wage_low, Wage_high, Wage_low):\n",
    "    W_hat = probability_wage_low*Wage_high + (1-probability_wage_low)*Wage_low\n",
    "    W_bar = Wage_high * Wage_low\n",
    "    omega = Wage_low + Wage_high   + discount_beta *(W_hat - (W0* return_R))\n",
    "    \n",
    "    denominator = 2* (1+ discount_beta) * return_R\n",
    "    numerator = -omega +np.sqrt((omega**2)-(4*(1+discount_beta)*W_bar) + (4 * discount_beta * (1+discount_beta) * return_R * W0 * W_hat ))\n",
    "    return numerator/denominator\n"
   ]
  },
  {
   "cell_type": "code",
   "execution_count": null,
   "metadata": {},
   "outputs": [],
   "source": [
    "# BASED ON EQUATION XXX of PAPER\n",
    "def decision_function(probability_wage_low, savings , migration_cost, W0, Wage_low, Wage_high):\n",
    "    sub_1 = (W0 - savings)\n",
    "    sub_2 = (W0 - migration_cost)\n",
    "    sub_3 = np.power((Wage_low + (return_R * migration_cost)), probability_wage_low)\n",
    "    sub_4 = np.power((Wage_high + (return_R * migration_cost)), (1-probability_wage_low))\n",
    "    \n",
    "    output = np.multiply(sub_3, sub_4, np.power(np.divide(sub_1, sub_2), (1.0/discount_beta)))\n",
    "    return np.power(output, (1.0/discount_beta))  "
   ]
  },
  {
   "cell_type": "code",
   "execution_count": null,
   "metadata": {},
   "outputs": [],
   "source": [
    "probabilities_wage_low = [0.01,0.4, 0.8,0.8]\n",
    "migration_costs = [(5,5,5,10),(10,10,10,20)]\n",
    "A_lows = (0.2, 0.2, 0.2, 0.2)\n",
    "\n",
    "fig,axs = plt.subplots(4,2 ,figsize=(25,20)) \n",
    "fig.suptitle(\"Fixed Migration Costs\", fontsize=20, y=1.05)\n",
    "\n",
    "for idx in range(8):\n",
    "    r, c = idx//2, idx%2\n",
    "    \n",
    "    WL, WH, MC, p = A_lows[r]* W0, Wage_high, migration_costs[c][r], probabilities_wage_low[r]\n",
    "    \n",
    "    savings = calculate_savings(probability_wage_low = p, Wage_high = WH, Wage_low = WL)\n",
    "    decision_function_out = decision_function(probability_wage_low = p, savings = savings, migration_cost = MC, W0 = W0, Wage_low = WL, Wage_high = WH)\n",
    "    non_migration_wage = W1 if c ==0 else W2\n",
    "    \n",
    "    axs[r,c].plot(W0, decision_function_out, label = \"Indifference Curve\")\n",
    "    axs[r,c].plot(W0, non_migration_wage, label = \"Wage Distribution\")\n",
    "\n",
    "    txt = \"P = {} \\n MC = {} \\n Al ={}\".format(p, MC,  A_lows[r])\n",
    "    axs[r,c].text(0.98,0.98, txt, bbox={'facecolor': 'aliceblue', 'alpha': 0.2, 'pad': 1},fontsize=15, transform=axs[r,c].transAxes, horizontalalignment='right', verticalalignment='top')\n",
    "    \n",
    "    axs[r,c].set_xlabel('Country {}'.format(c+1))\n",
    "    axs[r,c].xaxis.set_label_position('top')\n",
    "#     axs[r,c].set_xlim([0, 300])\n",
    "#     axs[r,c].set_ylim([0, 300])\n",
    "    axs[r,c].legend()\n",
    "    plt.tight_layout()\n"
   ]
  },
  {
   "cell_type": "code",
   "execution_count": null,
   "metadata": {},
   "outputs": [],
   "source": []
  }
 ],
 "metadata": {
  "kernelspec": {
   "display_name": "Python 3",
   "language": "python",
   "name": "python3"
  },
  "language_info": {
   "codemirror_mode": {
    "name": "ipython",
    "version": 3
   },
   "file_extension": ".py",
   "mimetype": "text/x-python",
   "name": "python",
   "nbconvert_exporter": "python",
   "pygments_lexer": "ipython3",
   "version": "3.7.1"
  }
 },
 "nbformat": 4,
 "nbformat_minor": 2
}
